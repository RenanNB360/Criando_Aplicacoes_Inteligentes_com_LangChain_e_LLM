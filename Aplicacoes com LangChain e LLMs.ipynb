{
 "cells": [
  {
   "cell_type": "markdown",
   "id": "47bde058-613d-4be8-be20-d36cb9de6521",
   "metadata": {},
   "source": [
    "## Importações"
   ]
  },
  {
   "cell_type": "code",
   "execution_count": 1,
   "id": "78698a6c-adc3-4648-8cb9-ebc2792d7a41",
   "metadata": {},
   "outputs": [
    {
     "name": "stderr",
     "output_type": "stream",
     "text": [
      "USER_AGENT environment variable not set, consider setting it to identify your requests.\n"
     ]
    }
   ],
   "source": [
    "import os\n",
    "import textwrap\n",
    "import chromadb\n",
    "import langchain\n",
    "import sqlalchemy\n",
    "import langchain_openai\n",
    "import langchain_ollama\n",
    "from langchain_openai import OpenAI\n",
    "from langchain_ollama import OllamaLLM\n",
    "from langchain.prompts import PromptTemplate\n",
    "from langchain.chains import LLMChain, SimpleSequentialChain, SequentialChain, ConversationChain, RetrievalQA\n",
    "from langchain.memory import ConversationBufferMemory, ConversationBufferWindowMemory\n",
    "from langchain.document_loaders import WebBaseLoader\n",
    "from langchain.indexes import VectorstoreIndexCreator\n",
    "from langchain.embeddings import OpenAIEmbeddings, OllamaEmbeddings\n",
    "from langchain.vectorstores import Chroma\n",
    "from langchain.chat_models import ChatOllama, ChatOpenAI\n",
    "import warnings\n",
    "warnings.filterwarnings('ignore')"
   ]
  },
  {
   "cell_type": "markdown",
   "id": "ae46cc0f-7169-4709-8297-67d9558340df",
   "metadata": {},
   "source": [
    "## Demonstrando os LLM Pagos e Gratuitos"
   ]
  },
  {
   "cell_type": "markdown",
   "id": "2a47ae12-ea97-46c7-b425-5fc2af9edc86",
   "metadata": {},
   "source": [
    "### Pago: Open AI"
   ]
  },
  {
   "cell_type": "code",
   "execution_count": 6,
   "id": "4eaf2011-c3b7-4581-825d-98a1b63f6731",
   "metadata": {},
   "outputs": [],
   "source": [
    "os.environ['OPENAI_API_KEY'] = \"coloque-aqui-sua-api\""
   ]
  },
  {
   "cell_type": "code",
   "execution_count": 7,
   "id": "5096d754-bffe-4071-972d-73d7e9c883b7",
   "metadata": {},
   "outputs": [],
   "source": [
    "llm_paid = OpenAI(temperature= 0.9)"
   ]
  },
  {
   "cell_type": "code",
   "execution_count": 13,
   "id": "2b32d545-d788-41fa-9628-1fed22be2722",
   "metadata": {},
   "outputs": [],
   "source": [
    "name_paid = llm_paid.invoke('Quero abrir um restaurante de comida japonesa. Sugira um nome chique para isso.')"
   ]
  },
  {
   "cell_type": "code",
   "execution_count": 14,
   "id": "121c67c0-9a97-4db9-88c4-b9c5c0aace5f",
   "metadata": {},
   "outputs": [
    {
     "name": "stdout",
     "output_type": "stream",
     "text": [
      "\n",
      "\n",
      "\"Sakura Saboroso\"\n"
     ]
    }
   ],
   "source": [
    "print(name_paid)"
   ]
  },
  {
   "cell_type": "markdown",
   "id": "7fffb4fb-26ae-472c-aca6-c41d0f830d5c",
   "metadata": {},
   "source": [
    "### Gratuito: Ollama"
   ]
  },
  {
   "cell_type": "code",
   "execution_count": 2,
   "id": "68e07b8f-3aec-4e48-80de-ebac1f391ebc",
   "metadata": {},
   "outputs": [],
   "source": [
    "llm_opensource = OllamaLLM(model= 'llama3', temperature= 0.9)"
   ]
  },
  {
   "cell_type": "code",
   "execution_count": 3,
   "id": "1c2ddc81-ca84-4be5-a5eb-64f7bec5f8a4",
   "metadata": {},
   "outputs": [],
   "source": [
    "name_opensource = llm_opensource.invoke('Quero abrir um restaurante de comida japonesa. Sugira um nome chique para isso.')"
   ]
  },
  {
   "cell_type": "code",
   "execution_count": 4,
   "id": "d1fe74ee-fd37-4c9b-8b5f-850e3337af4a",
   "metadata": {},
   "outputs": [
    {
     "name": "stdout",
     "output_type": "stream",
     "text": [
      "Um restaurante de comida japonesa é uma ideia deliciosa!\n",
      "\n",
      "Para sugerir um nome chique para seu restaurante, vou considerar algumas opções inspiradas na cultura e história do Japão. Aqui estão algumas sugestões:\n",
      "\n",
      "1. **Sakura** (): \"Sakura\" é o nome japonês das flores de cerejeira, símbolo da primavera e da esperança. Um nome apropriado para um restaurante que pretende transmitir a elegância e a beleza do Japão.\n",
      "2. **Kintsugi** (): Kintsugi é o termo japonês para a arte de reparar objetos com ouro, tornando-os mais valiosos do que antes. Isso reflete a filosofia japonesa da simplicidade e da perfeição na imperfeição.\n",
      "3. **Mitsuba** (): \"Mitsuba\" é o nome japonês para uma planta aromática, utilizada frequentemente em cozinha. O nome sugere uma combinação de sabores e texturas, características marcantes da comida japonesa.\n",
      "4. **Jūyō** (): \"Jūyō\" significa \"essencial\" ou \"necessário\" em japonês. Um nome que destaca a importância de servir comidas autênticas e de alta qualidade, como se faz no Japão.\n",
      "5. **Kokoro** (): \"Kokoro\" é o termo japonês para o coração ou a mente. O nome sugere uma experiência culinária que transcende apenas a comida, mas também a conexão emocional com a cultura e as pessoas.\n",
      "\n",
      "Espero que essas sugestões lhe inspirem um nome adequado para seu restaurante de comida japonesa!\n"
     ]
    }
   ],
   "source": [
    "print(name_opensource)"
   ]
  },
  {
   "cell_type": "markdown",
   "id": "ab91f353-52e5-445b-9b1f-b5d70d0431a4",
   "metadata": {},
   "source": [
    "## Usando o Prompt Template"
   ]
  },
  {
   "cell_type": "code",
   "execution_count": 5,
   "id": "56b0527d-de1d-47af-9ae3-14a2a929afd8",
   "metadata": {},
   "outputs": [],
   "source": [
    "prompt_template_name = PromptTemplate(\n",
    "    input_variables= ['culinaria'],\n",
    "    template= 'Quero abrir um restaurante de comida {culinaria}. Sugira um nome chique para isso.'\n",
    ")"
   ]
  },
  {
   "cell_type": "code",
   "execution_count": 6,
   "id": "9a233b9d-82e4-4595-81c7-c6a2a77d36a2",
   "metadata": {},
   "outputs": [],
   "source": [
    "p = prompt_template_name.format(culinaria = 'Italiana')"
   ]
  },
  {
   "cell_type": "code",
   "execution_count": 7,
   "id": "0bae0ca2-4421-4384-8140-18841ff6e20a",
   "metadata": {},
   "outputs": [
    {
     "data": {
      "text/plain": [
       "'Quero abrir um restaurante de comida Italiana. Sugira um nome chique para isso.'"
      ]
     },
     "execution_count": 7,
     "metadata": {},
     "output_type": "execute_result"
    }
   ],
   "source": [
    "p"
   ]
  },
  {
   "cell_type": "markdown",
   "id": "1ae7b150-a071-44fc-be7c-4b40bb24f7a1",
   "metadata": {},
   "source": [
    "## Sequências de Operações com LLMChain"
   ]
  },
  {
   "cell_type": "code",
   "execution_count": 8,
   "id": "f2b36c94-0ba5-4f52-8bfe-7df424d272ce",
   "metadata": {},
   "outputs": [],
   "source": [
    "chain = LLMChain(llm= llm_opensource, prompt= prompt_template_name)"
   ]
  },
  {
   "cell_type": "code",
   "execution_count": 9,
   "id": "fd23d139-fb9f-4296-9c22-27b488886714",
   "metadata": {},
   "outputs": [
    {
     "data": {
      "text/plain": [
       "{'culinaria': 'Mexicana',\n",
       " 'text': 'Que aventura emocionante!\\n\\nAqui estão algumas sugestões de nomes chicos para o seu restaurante de comida mexicana:\\n\\n1. **México 1920**: uma referência ao movimento art déco e a riqueza cultural do México dos anos 20.\\n2. **La Casa Azul**: inspirado no nome da casa de Frida Kahlo, uma icona da arte mexicana, que também é azul, cor que simboliza a sabedoria e o conhecimento.\\n3. **El Fuego**: \"O fogo\" em espanhol, que representa a paixão e o calor da comida mexicana.\\n4. **Azteca**: uma referência à riqueza cultural e histórica do império asteca, que influenciou muito a culinária mexicana.\\n5. **Vuela y Sabor**: \"Voar e sabor\" em espanhol, que sugere liberdade e delícia.\\n6. **Café con Queso**: uma referência à popularidade do café com queijo na cultura mexicana.\\n7. **El Mercado**: um nome que evoca a vibração de um mercado tradicional mexicano, onde as pessoas se reunem para provar e comprar comida.\\n8. **Tacos y Tradición**: \"Tacos e tradição\" em espanhol, que combina a popularidade dos tacos com a riqueza cultural do México.\\n9. **La Estación**: uma referência ao movimento de povoamento e expansão da América Latina, que teve um papel importante no desenvolvimento da culinária mexicana.\\n10. **El Jardín**: \"O jardim\" em espanhol, que sugere tranquilidade e delícia.\\n\\nEspero que isso ajude a inspirar o nome do seu restaurante!'}"
      ]
     },
     "execution_count": 9,
     "metadata": {},
     "output_type": "execute_result"
    }
   ],
   "source": [
    "chain.invoke('Mexicana')"
   ]
  },
  {
   "cell_type": "code",
   "execution_count": 10,
   "id": "3d6bbe23-d6c4-41dc-aecd-fd2e9c0ce935",
   "metadata": {},
   "outputs": [],
   "source": [
    "chain = LLMChain(llm= llm_opensource, prompt= prompt_template_name, verbose= True)"
   ]
  },
  {
   "cell_type": "code",
   "execution_count": 11,
   "id": "24b982b3-b69b-4c97-921c-ad965d44ca70",
   "metadata": {},
   "outputs": [
    {
     "name": "stdout",
     "output_type": "stream",
     "text": [
      "\n",
      "\n",
      "\u001b[1m> Entering new LLMChain chain...\u001b[0m\n",
      "Prompt after formatting:\n",
      "\u001b[32;1m\u001b[1;3mQuero abrir um restaurante de comida Mexicana. Sugira um nome chique para isso.\u001b[0m\n",
      "\n",
      "\u001b[1m> Finished chain.\u001b[0m\n"
     ]
    },
    {
     "data": {
      "text/plain": [
       "{'culinaria': 'Mexicana',\n",
       " 'text': 'What a great idea!\\n\\nHere are some chic name suggestions for your Mexican restaurant:\\n\\n1. **Fiesta Gourmet**: This name combines the festive vibe of Mexico with the sophistication of gourmet cuisine.\\n2. **Viento y Sol**: \"Wind and Sun\" is a poetic name that evokes the warm, sunny climate of Mexico and the gentle breezes that blow through the country\\'s cities.\\n3. **El Jardín de la Vida**: This name translates to \"The Garden of Life,\" suggesting a lush, vibrant atmosphere that\\'s reminiscent of traditional Mexican haciendas.\\n4. **Azul y Oro**: \"Blue and Gold\" references the iconic colors of Mexico\\'s flag, while also hinting at the rich, golden flavors of your dishes.\\n5. **Casa de la Fiesta**: This name incorporates the idea of a cozy home (casa) with the excitement of a party (fiesta), suggesting a welcoming atmosphere that\\'s perfect for gatherings.\\n6. **La Casa del Sol**: This name means \"The House of the Sun,\" which is fitting for a Mexican restaurant that serves up warm, sunny flavors.\\n7. **Terra Verdi**: \"Green Earth\" is a nod to Mexico\\'s lush landscapes and rich agricultural heritage, while also hinting at the freshness and vitality of your dishes.\\n\\nChoose one that resonates with you, or feel free to modify these suggestions to create a unique name for your restaurant!'}"
      ]
     },
     "execution_count": 11,
     "metadata": {},
     "output_type": "execute_result"
    }
   ],
   "source": [
    "chain.invoke('Mexicana')"
   ]
  },
  {
   "cell_type": "markdown",
   "id": "043105f7-af00-4c00-ab16-a029e95b41b5",
   "metadata": {},
   "source": [
    "## Sequências Simples de Chain"
   ]
  },
  {
   "cell_type": "code",
   "execution_count": 12,
   "id": "d7c4511e-613e-4d2d-bc18-4e76712832d7",
   "metadata": {},
   "outputs": [],
   "source": [
    "llm_opensource = OllamaLLM(model= 'llama3', temperature= 0.6)"
   ]
  },
  {
   "cell_type": "code",
   "execution_count": 13,
   "id": "aff439ba-eb4c-48aa-8f9e-e02e22677060",
   "metadata": {},
   "outputs": [],
   "source": [
    "prompt_template_name = PromptTemplate(\n",
    "    input_variables= ['culinaria'],\n",
    "    template= 'Quero abrir um restaurante de comida {culinaria}. Sugira um nome chique para isso.'\n",
    ")"
   ]
  },
  {
   "cell_type": "code",
   "execution_count": 14,
   "id": "4ca2d406-b33a-4a92-8c96-07357054df2b",
   "metadata": {},
   "outputs": [],
   "source": [
    "chain_1 = LLMChain(llm= llm_opensource, prompt= prompt_template_name)"
   ]
  },
  {
   "cell_type": "code",
   "execution_count": 15,
   "id": "e718508b-18fc-4571-8c30-2747898b07d7",
   "metadata": {},
   "outputs": [],
   "source": [
    "prompt_template_items = PromptTemplate(\n",
    "    input_variables= ['nome_restaurante'],\n",
    "    template= '''Sugira alguns itens do menu para {nome_restaurante}'''\n",
    ")"
   ]
  },
  {
   "cell_type": "code",
   "execution_count": 16,
   "id": "560ab472-8c21-4873-88c5-762d360b9238",
   "metadata": {},
   "outputs": [],
   "source": [
    "chain_2 = LLMChain(llm= llm_opensource, prompt= prompt_template_items)"
   ]
  },
  {
   "cell_type": "code",
   "execution_count": 17,
   "id": "ea3fd5a6-04da-47bf-ae5b-c52d4057118f",
   "metadata": {},
   "outputs": [],
   "source": [
    "chain_final = SimpleSequentialChain(chains= [chain_1, chain_2])"
   ]
  },
  {
   "cell_type": "code",
   "execution_count": 18,
   "id": "f6df097d-538e-4390-9946-399fb21436f7",
   "metadata": {},
   "outputs": [
    {
     "data": {
      "text/plain": [
       "{'input': 'Indiana',\n",
       " 'output': 'What a great idea indeed!\\n\\nHere are some menu item suggestions inspired by the names:\\n\\n**Tandoor Royale**\\n\\n1. Tandoori Chicken Tikka: Marinated chicken cooked to perfection in a traditional tandoor oven.\\n2. Royal Butter Chicken: Tender butter chicken with a hint of saffron and cardamom, served with basmati rice.\\n\\n**Saffron & Silk**\\n\\n1. Saffron Risotto: Creamy risotto infused with the subtle flavor of saffron, served with roasted vegetables.\\n2. Silk Road Lamb Koftas: Tender lamb koftas seasoned with cumin, coriander, and a hint of cinnamon, served with a side of mint chutney.\\n\\n**Garam Masala Gourmet**\\n\\n1. Garam Masala Crusted Salmon: Fresh salmon fillet crusted with a blend of garam masala spices, served with quinoa and roasted vegetables.\\n2. Gourmet Chicken Tikka Masala: Rich and creamy chicken tikka masala with a hint of cardamom and cumin, served over basmati rice.\\n\\n**Mumbai Mansion**\\n\\n1. Mumbai-Style Vada Pav: Crispy fried doughnut filled with spiced potatoes, served with a side of tangy tamarind chutney.\\n2. Mansion Biryani: flavorful lamb biryani with saffron-infused basmati rice and a hint of cinnamon.\\n\\n**Karma Kitchen**\\n\\n1. Karma Korma: Creamy korma sauce made with yogurt, cardamom, and cumin, served over chicken or vegetables.\\n2. Kitchen Sink Curry: A hearty curry made with a blend of spices, including turmeric, coriander, and cumin, served with basmati rice.\\n\\n**Spice Route Society**\\n\\n1. Spice Route Chicken Tagine: Slow-cooked chicken tagine with preserved lemons, olives, and a blend of spices, served over couscous.\\n2. Society Naan Bread: Freshly baked naan bread flavored with garlic, coriander, and cumin, perfect for sopping up curries.\\n\\n**Dhaba Deluxe**\\n\\n1. Dhaba-Style Butter Chicken: Rich and creamy butter chicken with a hint of garam masala, served over basmati rice.\\n2. Deluxe Vegetable Thali: A selection of colorful vegetables cooked in a blend of spices, served with naan bread and basmati rice.\\n\\n**Rasoi Renaissance**\\n\\n1. Rasoi-Style Chicken Tikka: Marinated chicken cooked to perfection in a traditional tandoor oven, served with mint chutney.\\n2. Renaissance Vegetable Curry: A hearty vegetable curry made with a blend of spices, including turmeric, coriander, and cumin, served over basmati rice.\\n\\nI hope these menu item suggestions inspire you!'}"
      ]
     },
     "execution_count": 18,
     "metadata": {},
     "output_type": "execute_result"
    }
   ],
   "source": [
    "chain_final.invoke('Indiana')"
   ]
  },
  {
   "cell_type": "markdown",
   "id": "ef8d56cd-d920-408f-b0e1-a8ab7fbf2971",
   "metadata": {},
   "source": [
    "## Sequêncial Chain"
   ]
  },
  {
   "cell_type": "code",
   "execution_count": 19,
   "id": "4712b283-6e35-48af-8d4f-da900e521d1b",
   "metadata": {},
   "outputs": [],
   "source": [
    "llm_opensource = OllamaLLM(model = 'llama3', temperature= 0.7)"
   ]
  },
  {
   "cell_type": "code",
   "execution_count": 20,
   "id": "fff81c04-d242-448b-8462-cf3d9e7eac0b",
   "metadata": {},
   "outputs": [],
   "source": [
    "prompt_template_name = PromptTemplate(\n",
    "    input_variables= ['culinaria'],\n",
    "    template= 'Quero abrir um restaurante de comida {culinaria}. Sugira um nome chique para isso.'\n",
    ")\n",
    "\n",
    "chain_1 = LLMChain(llm = llm_opensource, prompt = prompt_template_name, output_key= 'nome_restaurante')"
   ]
  },
  {
   "cell_type": "code",
   "execution_count": 21,
   "id": "d93b53da-1f6d-4bcd-8e63-f882cd234ccd",
   "metadata": {},
   "outputs": [],
   "source": [
    "prompt_template_items = PromptTemplate(\n",
    "    input_variables= ['nome_restaurante'],\n",
    "    template= 'Sugira alguns itens do menu para {nome_restaurante}.'\n",
    ")\n",
    "\n",
    "chain_2 = LLMChain(llm= llm_opensource, prompt= prompt_template_items, output_key= 'itens_menu')"
   ]
  },
  {
   "cell_type": "code",
   "execution_count": 22,
   "id": "2001da44-0faf-4bea-b2c1-e22aa4b057f9",
   "metadata": {},
   "outputs": [],
   "source": [
    "chain = SequentialChain(chains= [chain_1, chain_2],\n",
    "                       input_variables= ['culinaria'],\n",
    "                       output_variables= ['nome_restaurante', 'itens_menu'])"
   ]
  },
  {
   "cell_type": "code",
   "execution_count": 23,
   "id": "44348447-a835-4f5a-b33a-3d65a2b08023",
   "metadata": {},
   "outputs": [
    {
     "data": {
      "text/plain": [
       "{'culinaria': 'Italiana',\n",
       " 'nome_restaurante': 'Congratulations on your decision to open an Italian restaurant!\\n\\nHere are some chic name suggestions for your consideration:\\n\\n1. **Bella Vita** - \"Beautiful Life\" in Italian, evoking the idea of a warm and inviting dining experience.\\n2. **La Bella Cucina** - Combining \"beautiful\" (bella) with \"kitchen\" (cucina), emphasizing the artistry of Italian cooking.\\n3. **Tuscan Table** - Inspired by the rolling hills of Tuscany, this name suggests a cozy and rustic dining experience.\\n4. **Casa della Vita** - Meaning \"House of Life,\" this name conveys warmth, hospitality, and a sense of community.\\n5. **Il Fiore di Firenze** - Translating to \"The Flower of Florence,\" this name pays homage to the birthplace of Italian Renaissance and implies elegance and refinement.\\n6. **Bistro Bell\\'Italia** - A playful combination of \"bistro\" (a casual, upscale eatery) with \"Bell\\'Italia\" (meaning \"Beautiful Italy\"), suggesting a lively and approachable atmosphere.\\n7. **Vino e Vagabond** - Combining the Italian love for wine (vino) with the idea of adventure (vagabond), this name implies a fun and exploratory dining experience.\\n\\nChoose one that resonates with your vision, or feel free to modify these suggestions to create a unique name that reflects your restaurant\\'s character!',\n",
       " 'itens_menu': 'What a delicious decision! Here are some menu item suggestions to get you started:\\n\\n**Antipasti**\\n\\n1. Bruschetta Italiano - Toasted bread rubbed with garlic and topped with diced tomatoes, basil, and mozzarella\\n2. Insalata Caprese - Fresh mozzarella, tomato, and basil salad with extra virgin olive oil and balsamic glaze\\n3. Carpaccio di Manzo - Thinly sliced beef carpaccio served with arugula, shaved Parmesan, and a lemon-herb vinaigrette\\n\\n**Primi**\\n\\n1. Spaghetti alla Carbonara - Tender spaghetti tossed with bacon or pancetta, eggs, parmesan, and black pepper\\n2. Risotto alla Milanese - Creamy risotto with saffron-infused broth, served with ossobuco (braised veal shank) and gremolata\\n3. Lasagna Bolognese - Layered pasta with rich beef ragù, béchamel sauce, and mozzarella\\n\\n**Secondi**\\n\\n1. Chicken Parmesan - Breaded and fried chicken topped with marinara sauce and melted mozzarella, served with spaghetti or garlic bread\\n2. Vitello alla Marsala - Pan-seared veal scallopini in a rich marsala wine reduction, served with roasted vegetables and mashed potatoes\\n3. Pollo alla Cacciatora - Hunter-style chicken with onions, bell peppers, tomatoes, and mushrooms in a white wine sauce\\n\\n**Contorni**\\n\\n1. Garlic and Herb Roasted Broccoli - Fresh broccoli roasted with garlic, herbs, and lemon\\n2. Sautéed Spinach with Garlic and Lemon - Quickly cooked spinach with garlic, lemon zest, and red pepper flakes\\n3. Grilled Asparagus with Parmesan Cheese - Tender asparagus grilled to perfection and served with shaved Parmesan\\n\\n**Dolci**\\n\\n1. Tiramisù - Ladyfingers soaked in espresso and liqueur, layered with mascarpone cheese and cocoa powder\\n2. Panna Cotta con Frutta - Creamy panna cotta topped with mixed berries and a drizzle of honey\\n3. Gelato Italiano - Classic Italian-style ice cream available in various flavors\\n\\nThese menu items should give your customers a taste of Italy! Buon appetito!'}"
      ]
     },
     "execution_count": 23,
     "metadata": {},
     "output_type": "execute_result"
    }
   ],
   "source": [
    "chain.invoke({'culinaria': 'Italiana'})"
   ]
  },
  {
   "cell_type": "code",
   "execution_count": 24,
   "id": "43af1f29-fbd5-48b2-811d-b62df007a2b0",
   "metadata": {},
   "outputs": [
    {
     "name": "stdout",
     "output_type": "stream",
     "text": [
      "Culinária: Italiana\n",
      "Nome do Restaurante: What a great idea!\n",
      "\n",
      "For a high-end Italian restaurant, I'd suggest the following names:\n",
      "\n",
      "1. **Bella Vita** (Beautiful Life) - a name that evokes the warm, inviting spirit of Italy.\n",
      "2. **La Cucina di Roma** (The Kitchen of Rome) - a nod to the culinary heritage of Rome and the rich flavors you'll be serving.\n",
      "3. **Tavola Italiano** (Italian Table) - emphasizing the communal aspect of dining and the authenticity of your Italian cuisine.\n",
      "4. **Mangia!** (Eat!) - a playful, energetic name that encourages customers to indulge in your delicious dishes.\n",
      "5. **Il Cuore di Italia** (The Heart of Italy) - highlighting the passion and love that goes into preparing each dish.\n",
      "6. **Caffè & Cucina** (Coffee & Kitchen) - combining the Italian tradition of coffee culture with the warmth of your restaurant's kitchen.\n",
      "7. **Piazza Italiano** (Italian Square) - creating a sense of community and gathering place, like a bustling piazza in Italy.\n",
      "8. **La Dolce Vita** (The Sweet Life) - referencing the classic Italian film and emphasizing the pleasure and indulgence of dining at your restaurant.\n",
      "\n",
      "Choose one that resonates with your vision and style, and buon appetito!\n",
      "Itens do Menu: \n",
      "What a great idea! Here are some menu item suggestions to complement your chosen name:\n",
      "\n",
      "**Bella Vita**\n",
      "\n",
      "1. **Tortellini alla Panna**: Cheese-filled tortellini in a creamy mushroom sauce.\n",
      "2. **Bruschetta**: Grilled bread with fresh tomatoes, basil, and mozzarella cheese.\n",
      "3. **Risotto alla Milanese**: Saffron-infused risotto with ossobuco (braised veal shanks).\n",
      "4. **Chicken Parmesan**: Breaded and fried chicken topped with marinara sauce and melted mozzarella.\n",
      "\n",
      "**La Cucina di Roma**\n",
      "\n",
      "1. **Carbonara alla Romana**: Spaghetti tossed in a rich egg, bacon, and parmesan sauce.\n",
      "2. **Fettuccine Alfredo**: Creamy fettuccine pasta with parmesan cheese and parsley.\n",
      "3. **Risotto con Funghi**: Mushroom risotto with porcini and truffle oil.\n",
      "4. **Pollo alla Cacciatora**: Hunter-style chicken with onions, bell peppers, and mushrooms.\n",
      "\n",
      "**Tavola Italiano**\n",
      "\n",
      "1. **Pappardelle Bolognese**: Wide noodles with slow-cooked beef ragù and parmesan cheese.\n",
      "2. **Spaghetti Aglio e Olio**: Spicy spaghetti with garlic, olive oil, and red pepper flakes.\n",
      "3. **Fritto Misto**: Mixed fried vegetables and seafood (zucchini, eggplant, calamari, shrimp).\n",
      "4. **Tiramisù**: Ladyfinger-soaked coffee dessert with mascarpone cheese.\n",
      "\n",
      "**Mangia!**\n",
      "\n",
      "1. **Lasagna Bolognese**: Classic lasagna with ground beef ragù and mozzarella.\n",
      "2. **Chicken Piccata**: Breaded and fried chicken breast with lemon-caper sauce.\n",
      "3. **Spaghetti alla Puttanesca**: Spicy spaghetti with olives, capers, garlic, and anchovies.\n",
      "4. **Panna Cotta**: Creamy vanilla pudding topped with mixed berries.\n",
      "\n",
      "**Il Cuore di Italia**\n",
      "\n",
      "1. **Ravioli alla Ricotta e Spinaci**: Cheese-filled ravioli with spinach and creamy sauce.\n",
      "2. **Gnocchi alla Romana**: Potato gnocchi with tomato sauce, basil, and parmesan cheese.\n",
      "3. **Pollo alla Milanese**: Breaded and fried chicken breast topped with arugula and lemon.\n",
      "\n",
      "**Caffè & Cucina**\n",
      "\n",
      "1. **Espresso Granita**: Iced espresso granita with whipped cream and biscotti crumble.\n",
      "2. **Tiramisù French Toast**: Ladyfinger-soaked coffee dessert with mascarpone cheese and maple syrup.\n",
      "3. **Panna Cotta Mousse**: Creamy vanilla pudding topped with mixed berries and toasted almonds.\n",
      "\n",
      "**Piazza Italiano**\n",
      "\n",
      "1. **Focaccia di Recco**: Stuffed focaccia with stracchino cheese, ham, and fresh herbs.\n",
      "2. **Caprese Salad**: Fresh mozzarella, tomato, and basil salad with balsamic glaze.\n",
      "3. **Arancini**: Fried risotto balls filled with mozzarella, tomato sauce, and meatballs.\n",
      "\n",
      "**La Dolce Vita**\n",
      "\n",
      "1. **Tiramisù**: Ladyfinger-soaked coffee dessert with mascarpone cheese.\n",
      "2. **Panna Cotta**: Creamy vanilla pudding topped with mixed berries.\n",
      "3. **Gelato**: Italian-style ice cream in various flavors (hazelnut, pistachio, stracciatella).\n",
      "\n",
      "These menu items are designed to complement your chosen name and evoke the warm, inviting spirit of Italy. Buon appetito!\n"
     ]
    }
   ],
   "source": [
    "resposta = chain.invoke({'culinaria': 'Italiana'})\n",
    "\n",
    "saida_formatada = f'Culinária: {resposta[\"culinaria\"]}\\nNome do Restaurante: {resposta[\"nome_restaurante\"].strip()}\\nItens do Menu: '\n",
    "\n",
    "itens_menu = resposta['itens_menu'].strip().split('\\n')\n",
    "for item in itens_menu:\n",
    "    saida_formatada += f'\\n{item}'\n",
    "\n",
    "print(saida_formatada)"
   ]
  },
  {
   "cell_type": "markdown",
   "id": "05383112-1752-4b4c-9208-3855d75ca607",
   "metadata": {},
   "source": [
    "## Criando Memória para o LLM"
   ]
  },
  {
   "cell_type": "code",
   "execution_count": 25,
   "id": "87b687b3-da5e-49ae-9efc-e6abb184c83a",
   "metadata": {},
   "outputs": [],
   "source": [
    "chain = LLMChain(llm= llm_opensource, prompt= prompt_template_name)"
   ]
  },
  {
   "cell_type": "code",
   "execution_count": 26,
   "id": "5c9931be-67f8-4808-922b-a9f85d0dd282",
   "metadata": {},
   "outputs": [
    {
     "data": {
      "text/plain": [
       "{'culinaria': 'Mexicana',\n",
       " 'text': \"Que ideia emocionante!\\n\\nAqui estão algumas sugestões de nomes chiques para seu restaurante de comida mexicana:\\n\\n1. **Tacos y Vientos** (Tacos and Winds): uma combinação atraente da comida mexicana e a atmosfera relaxada do vento.\\n2. **La Casa de la Fiesta**: um nome que evoca a ideia de celebrações e festas mexicanas, com um toque de elegância.\\n3. **El Jardín de los Dioses** (The Garden of the Gods): uma sugestão que combina a beleza natural da flora mexicana com a mitologia nativa.\\n4. **Azul y Sol**: um nome que combina o azul do céu mexicano com o calor do sol, sugerindo um ambiente alegre e animado.\\n5. **Casa de la Abuela** (Grandma's House): um nome que evoca a ideia de uma casa familiar e acolhedora, como se você estivesse sentado na mesa de sua abuela mexicana.\\n6. **Mestizo**: um nome que combina as raízes indígenas e espanholas da comida mexicana, sugerindo um ambiente culturalmente rico.\\n7. **El Mercado de la Vida** (The Market of Life): uma sugestão que evoca a ideia de uma feira viva e vibrante, como se você estivesse mergulhando em uma jornada gastronômica.\\n8. **La Casa de las Enchiladas**: um nome que destaca a especialidade mexicana, as enchiladas, com um toque de elegância.\\n\\nEspero que essas sugestões ajudem a inspirar o nome do seu restaurante!\"}"
      ]
     },
     "execution_count": 26,
     "metadata": {},
     "output_type": "execute_result"
    }
   ],
   "source": [
    "nome = chain.invoke('Mexicana')\n",
    "nome"
   ]
  },
  {
   "cell_type": "code",
   "execution_count": 27,
   "id": "10b4940f-8f3b-43a4-b7dc-54db7a4f5f64",
   "metadata": {},
   "outputs": [
    {
     "data": {
      "text/plain": [
       "{'culinaria': 'Argentina',\n",
       " 'text': 'What a great idea!\\n\\nHere are some sophisticated name suggestions for your Argentine restaurant:\\n\\n1. **Asado Argentino**: \"Asado\" is the traditional Argentine method of cooking meat, and adding \"Argentino\" emphasizes the country\\'s influence on the cuisine.\\n2. **La Estancia**: This name evokes the rustic charm of an Argentine ranch (estancia), perfect for a cozy restaurant serving hearty dishes.\\n3. **Buenos Aires Bistro**: Naming your restaurant after Argentina\\'s capital city adds authenticity and sophistication, while \"Bistro\" implies a relaxed, elegant atmosphere.\\n4. **Pampa & Co.**: \"Pampa\" is the Argentine term for the grasslands, which are an integral part of the country\\'s culture. The \"& Co.\" suggests a company or gathering place, fitting for a restaurant.\\n5. **Fiesta Gastronómica**: This name combines the festive spirit of Argentine celebrations with the idea of gastronomic pleasure, implying a lively and delicious dining experience.\\n6. **Tango & Table**: \"Tango\" is an iconic symbol of Argentina, while \"Table\" emphasizes the importance of sharing meals together. This name suggests a warm, inviting atmosphere.\\n7. **El Refugio**: In Spanish, \"refugio\" means both \"shelter\" and \"restaurant.\" This name conveys a sense of comfort and hospitality, perfect for an Argentine restaurant.\\n\\nI hope one of these names sparks your creativity and helps you establish your brand!'}"
      ]
     },
     "execution_count": 27,
     "metadata": {},
     "output_type": "execute_result"
    }
   ],
   "source": [
    "nome = chain.invoke('Argentina')\n",
    "nome"
   ]
  },
  {
   "cell_type": "code",
   "execution_count": 28,
   "id": "73cc93ef-15c7-454c-b93f-2258de349db7",
   "metadata": {},
   "outputs": [],
   "source": [
    "chain.memory"
   ]
  },
  {
   "cell_type": "code",
   "execution_count": 29,
   "id": "5d1018de-e04e-4fa6-b1bc-721a7be09a2f",
   "metadata": {},
   "outputs": [
    {
     "data": {
      "text/plain": [
       "NoneType"
      ]
     },
     "execution_count": 29,
     "metadata": {},
     "output_type": "execute_result"
    }
   ],
   "source": [
    "type(chain.memory)"
   ]
  },
  {
   "cell_type": "code",
   "execution_count": 30,
   "id": "687cc1e7-fa03-4fa6-92bd-6d54ced48901",
   "metadata": {},
   "outputs": [],
   "source": [
    "memory = ConversationBufferMemory()"
   ]
  },
  {
   "cell_type": "code",
   "execution_count": 31,
   "id": "a493ad36-1b99-4777-b046-f90d22fbd653",
   "metadata": {},
   "outputs": [],
   "source": [
    "chain = LLMChain(llm= llm_opensource, prompt= prompt_template_name, memory= memory)"
   ]
  },
  {
   "cell_type": "code",
   "execution_count": 32,
   "id": "b3c0be9a-f6f3-48eb-ad82-1596bf25c063",
   "metadata": {},
   "outputs": [
    {
     "data": {
      "text/plain": [
       "{'culinaria': 'Mexicana',\n",
       " 'history': '',\n",
       " 'text': \"What a great idea!\\n\\nHere are some sophisticated name suggestions for your Mexican restaurant:\\n\\n1. **Vallarta**: Inspired by the beautiful city of Puerto Vallarta, this name evokes the warm and vibrant spirit of Mexico.\\n2. **Azul y Sol** (Blue and Sun): This name combines the bright blue skies of Mexico with the warmth of the sun, suggesting a welcoming and lively atmosphere.\\n3. **La Fiesta Moderna**: This name captures the essence of Mexican fiestas while adding a modern twist, implying a contemporary take on traditional cuisine.\\n4. **El Patio de México** (The Patio of Mexico): This name transports customers to a charming outdoor setting, reminiscent of a cozy patio in Mexico.\\n5. **Sabor y Solana** (Flavor and Sun-kissed): This name highlights the bold flavors and warm, sunny vibes associated with Mexican cuisine.\\n6. **El Jardín de la Vida** (The Garden of Life): This name references the vibrant colors and lush gardens often found in Mexico, suggesting a restaurant that's full of life and energy.\\n7. **La Casa de los Abuelos** (The House of Grandparents): This name pays homage to traditional Mexican cooking, implying a warm, family-style atmosphere and authentic flavors.\\n8. **México Mío** (My Mexico): This name conveys a sense of pride and passion for the country's cuisine, inviting customers to experience a piece of Mexico in your restaurant.\\n\\nChoose the one that resonates with you the most, or feel free to modify any of these suggestions to fit your brand and style!\"}"
      ]
     },
     "execution_count": 32,
     "metadata": {},
     "output_type": "execute_result"
    }
   ],
   "source": [
    "nome = chain.invoke('Mexicana')\n",
    "nome"
   ]
  },
  {
   "cell_type": "code",
   "execution_count": 33,
   "id": "5ebefa3e-7b0d-4d07-95e9-1074a84ac242",
   "metadata": {},
   "outputs": [
    {
     "data": {
      "text/plain": [
       "{'culinaria': 'Argentina',\n",
       " 'history': \"Human: Mexicana\\nAI: What a great idea!\\n\\nHere are some sophisticated name suggestions for your Mexican restaurant:\\n\\n1. **Vallarta**: Inspired by the beautiful city of Puerto Vallarta, this name evokes the warm and vibrant spirit of Mexico.\\n2. **Azul y Sol** (Blue and Sun): This name combines the bright blue skies of Mexico with the warmth of the sun, suggesting a welcoming and lively atmosphere.\\n3. **La Fiesta Moderna**: This name captures the essence of Mexican fiestas while adding a modern twist, implying a contemporary take on traditional cuisine.\\n4. **El Patio de México** (The Patio of Mexico): This name transports customers to a charming outdoor setting, reminiscent of a cozy patio in Mexico.\\n5. **Sabor y Solana** (Flavor and Sun-kissed): This name highlights the bold flavors and warm, sunny vibes associated with Mexican cuisine.\\n6. **El Jardín de la Vida** (The Garden of Life): This name references the vibrant colors and lush gardens often found in Mexico, suggesting a restaurant that's full of life and energy.\\n7. **La Casa de los Abuelos** (The House of Grandparents): This name pays homage to traditional Mexican cooking, implying a warm, family-style atmosphere and authentic flavors.\\n8. **México Mío** (My Mexico): This name conveys a sense of pride and passion for the country's cuisine, inviting customers to experience a piece of Mexico in your restaurant.\\n\\nChoose the one that resonates with you the most, or feel free to modify any of these suggestions to fit your brand and style!\",\n",
       " 'text': 'What a great idea!\\n\\nHere are some sophisticated name suggestions for your Argentine restaurant:\\n\\n1. **Asado Argentino**: \"Asado\" is the traditional Argentine way of grilling meat, and adding \"Argentino\" emphasizes the cuisine\\'s origin.\\n2. **La Estancia**: This name evokes the rustic charm of an Argentine estancia (ranch) and suggests a cozy, welcoming atmosphere.\\n3. **El Cielo Argentino**: \"El Cielo\" means \"heavenly\" in Spanish, implying that your restaurant offers a culinary experience that\\'s out of this world. The addition of \"Argentino\" reinforces the Argentine theme.\\n4. **Pampa Grill**: \"Pampa\" refers to the Argentine grasslands, while \"Grill\" highlights the focus on grilled meats and flavors.\\n5. **La Casa de la Parrilla**: This name combines \"Casa\" (house) with \"de la Parrilla\" (of the grill), conveying a warm, inviting atmosphere and emphasizing the restaurant\\'s specialty: grilled dishes.\\n6. **Don Julio\\'s**: \"Don Julio\" is a nod to Argentine culture and tradition, while also suggesting a sense of familiarity and hospitality.\\n7. **Argentine Gaucho**: \"Gaucho\" is a term that refers to Argentina\\'s iconic cowboys, adding a touch of adventure and ruggedness to your restaurant\\'s name.\\n\\nChoose the one that best reflects your vision for your Argentine restaurant!'}"
      ]
     },
     "execution_count": 33,
     "metadata": {},
     "output_type": "execute_result"
    }
   ],
   "source": [
    "nome = chain.invoke('Argentina')\n",
    "nome"
   ]
  },
  {
   "cell_type": "code",
   "execution_count": 34,
   "id": "1a3c48ad-1102-497d-986b-ad5540c7a9c8",
   "metadata": {},
   "outputs": [
    {
     "data": {
      "text/plain": [
       "'Human: Mexicana\\nAI: What a great idea!\\n\\nHere are some sophisticated name suggestions for your Mexican restaurant:\\n\\n1. **Vallarta**: Inspired by the beautiful city of Puerto Vallarta, this name evokes the warm and vibrant spirit of Mexico.\\n2. **Azul y Sol** (Blue and Sun): This name combines the bright blue skies of Mexico with the warmth of the sun, suggesting a welcoming and lively atmosphere.\\n3. **La Fiesta Moderna**: This name captures the essence of Mexican fiestas while adding a modern twist, implying a contemporary take on traditional cuisine.\\n4. **El Patio de México** (The Patio of Mexico): This name transports customers to a charming outdoor setting, reminiscent of a cozy patio in Mexico.\\n5. **Sabor y Solana** (Flavor and Sun-kissed): This name highlights the bold flavors and warm, sunny vibes associated with Mexican cuisine.\\n6. **El Jardín de la Vida** (The Garden of Life): This name references the vibrant colors and lush gardens often found in Mexico, suggesting a restaurant that\\'s full of life and energy.\\n7. **La Casa de los Abuelos** (The House of Grandparents): This name pays homage to traditional Mexican cooking, implying a warm, family-style atmosphere and authentic flavors.\\n8. **México Mío** (My Mexico): This name conveys a sense of pride and passion for the country\\'s cuisine, inviting customers to experience a piece of Mexico in your restaurant.\\n\\nChoose the one that resonates with you the most, or feel free to modify any of these suggestions to fit your brand and style!\\nHuman: Argentina\\nAI: What a great idea!\\n\\nHere are some sophisticated name suggestions for your Argentine restaurant:\\n\\n1. **Asado Argentino**: \"Asado\" is the traditional Argentine way of grilling meat, and adding \"Argentino\" emphasizes the cuisine\\'s origin.\\n2. **La Estancia**: This name evokes the rustic charm of an Argentine estancia (ranch) and suggests a cozy, welcoming atmosphere.\\n3. **El Cielo Argentino**: \"El Cielo\" means \"heavenly\" in Spanish, implying that your restaurant offers a culinary experience that\\'s out of this world. The addition of \"Argentino\" reinforces the Argentine theme.\\n4. **Pampa Grill**: \"Pampa\" refers to the Argentine grasslands, while \"Grill\" highlights the focus on grilled meats and flavors.\\n5. **La Casa de la Parrilla**: This name combines \"Casa\" (house) with \"de la Parrilla\" (of the grill), conveying a warm, inviting atmosphere and emphasizing the restaurant\\'s specialty: grilled dishes.\\n6. **Don Julio\\'s**: \"Don Julio\" is a nod to Argentine culture and tradition, while also suggesting a sense of familiarity and hospitality.\\n7. **Argentine Gaucho**: \"Gaucho\" is a term that refers to Argentina\\'s iconic cowboys, adding a touch of adventure and ruggedness to your restaurant\\'s name.\\n\\nChoose the one that best reflects your vision for your Argentine restaurant!'"
      ]
     },
     "execution_count": 34,
     "metadata": {},
     "output_type": "execute_result"
    }
   ],
   "source": [
    "chain.memory.buffer"
   ]
  },
  {
   "cell_type": "markdown",
   "id": "56a984ab-1849-4b56-ab68-0d027fae583a",
   "metadata": {},
   "source": [
    "## Conversação Chain"
   ]
  },
  {
   "cell_type": "code",
   "execution_count": 35,
   "id": "916484cd-1525-4e14-a002-d10fa000ef63",
   "metadata": {},
   "outputs": [],
   "source": [
    "conv = ConversationChain(llm= OllamaLLM(model= 'llama3', temperature= 0.7))"
   ]
  },
  {
   "cell_type": "code",
   "execution_count": 36,
   "id": "d30db25e-0a28-4aa7-85bf-68722eb219e1",
   "metadata": {},
   "outputs": [
    {
     "data": {
      "text/plain": [
       "'The following is a friendly conversation between a human and an AI. The AI is talkative and provides lots of specific details from its context. If the AI does not know the answer to a question, it truthfully says it does not know.\\n\\nCurrent conversation:\\n{history}\\nHuman: {input}\\nAI:'"
      ]
     },
     "execution_count": 36,
     "metadata": {},
     "output_type": "execute_result"
    }
   ],
   "source": [
    "conv.prompt.template"
   ]
  },
  {
   "cell_type": "code",
   "execution_count": 37,
   "id": "5dcaa0ac-3623-4174-927e-4a9da761bfdf",
   "metadata": {},
   "outputs": [
    {
     "data": {
      "text/plain": [
       "{'input': 'Que país venceu mais vezes a Copa do Mundo de Futebol?',\n",
       " 'history': '',\n",
       " 'response': 'A great question! According to my vast database of sports records and statistics, Brazil is the country that has won the FIFA World Cup the most times. They have lifted the coveted trophy five times: in 1958, 1962, 1970, 1994, and 2002.'}"
      ]
     },
     "execution_count": 37,
     "metadata": {},
     "output_type": "execute_result"
    }
   ],
   "source": [
    "conv.invoke('Que país venceu mais vezes a Copa do Mundo de Futebol?')"
   ]
  },
  {
   "cell_type": "code",
   "execution_count": 38,
   "id": "bf192432-fb1f-48e6-9e20-c2c14b33a158",
   "metadata": {},
   "outputs": [
    {
     "data": {
      "text/plain": [
       "{'input': 'Quanto é 30 + 12?',\n",
       " 'history': 'Human: Que país venceu mais vezes a Copa do Mundo de Futebol?\\nAI: A great question! According to my vast database of sports records and statistics, Brazil is the country that has won the FIFA World Cup the most times. They have lifted the coveted trophy five times: in 1958, 1962, 1970, 1994, and 2002.',\n",
       " 'response': \"A simple math question! According to my programming and vast knowledge of arithmetic operations, the answer is... (drumroll please)... 42! That's right, 30 + 12 equals 42. I'm confident in my calculation, as it's a straightforward addition problem.\"}"
      ]
     },
     "execution_count": 38,
     "metadata": {},
     "output_type": "execute_result"
    }
   ],
   "source": [
    "conv.invoke(\"Quanto é 30 + 12?\")"
   ]
  },
  {
   "cell_type": "code",
   "execution_count": 39,
   "id": "1e56fc0c-d51a-4602-920e-fd69e4a2411d",
   "metadata": {},
   "outputs": [
    {
     "data": {
      "text/plain": [
       "{'input': 'Quem é o maior artilheiro da história das Copas do Mundo de Futebol?',\n",
       " 'history': \"Human: Que país venceu mais vezes a Copa do Mundo de Futebol?\\nAI: A great question! According to my vast database of sports records and statistics, Brazil is the country that has won the FIFA World Cup the most times. They have lifted the coveted trophy five times: in 1958, 1962, 1970, 1994, and 2002.\\nHuman: Quanto é 30 + 12?\\nAI: A simple math question! According to my programming and vast knowledge of arithmetic operations, the answer is... (drumroll please)... 42! That's right, 30 + 12 equals 42. I'm confident in my calculation, as it's a straightforward addition problem.\",\n",
       " 'response': \"Another great question! According to my extensive database of football records and statistics, the all-time leading scorer in the FIFA World Cup is Miroslav Klose from Germany. He scored a total of 16 goals across four World Cups (2002, 2006, 2010, and 2014). This impressive record surpasses the previous record held by Ronaldo from Brazil, who scored 15 goals across three World Cups (1998, 2002, and 2006). Klose's achievement is a testament to his exceptional skill and dedication as a striker.\"}"
      ]
     },
     "execution_count": 39,
     "metadata": {},
     "output_type": "execute_result"
    }
   ],
   "source": [
    "conv.invoke(\"Quem é o maior artilheiro da história das Copas do Mundo de Futebol?\")"
   ]
  },
  {
   "cell_type": "code",
   "execution_count": 40,
   "id": "eefc3226-d681-4bb8-b17a-3705435da29c",
   "metadata": {},
   "outputs": [
    {
     "data": {
      "text/plain": [
       "\"Human: Que país venceu mais vezes a Copa do Mundo de Futebol?\\nAI: A great question! According to my vast database of sports records and statistics, Brazil is the country that has won the FIFA World Cup the most times. They have lifted the coveted trophy five times: in 1958, 1962, 1970, 1994, and 2002.\\nHuman: Quanto é 30 + 12?\\nAI: A simple math question! According to my programming and vast knowledge of arithmetic operations, the answer is... (drumroll please)... 42! That's right, 30 + 12 equals 42. I'm confident in my calculation, as it's a straightforward addition problem.\\nHuman: Quem é o maior artilheiro da história das Copas do Mundo de Futebol?\\nAI: Another great question! According to my extensive database of football records and statistics, the all-time leading scorer in the FIFA World Cup is Miroslav Klose from Germany. He scored a total of 16 goals across four World Cups (2002, 2006, 2010, and 2014). This impressive record surpasses the previous record held by Ronaldo from Brazil, who scored 15 goals across three World Cups (1998, 2002, and 2006). Klose's achievement is a testament to his exceptional skill and dedication as a striker.\""
      ]
     },
     "execution_count": 40,
     "metadata": {},
     "output_type": "execute_result"
    }
   ],
   "source": [
    "conv.memory.buffer"
   ]
  },
  {
   "cell_type": "markdown",
   "id": "77622b1f-9997-4c3d-a2d0-ee07326f2048",
   "metadata": {},
   "source": [
    "## Conversação Buffer da Janela Memória"
   ]
  },
  {
   "cell_type": "code",
   "execution_count": 41,
   "id": "244b0146-d4ff-4813-bb0f-d59df1778dab",
   "metadata": {},
   "outputs": [],
   "source": [
    "memory = ConversationBufferWindowMemory(k = 1)"
   ]
  },
  {
   "cell_type": "code",
   "execution_count": 42,
   "id": "52e4c15b-ff07-43e5-9b45-863613969dde",
   "metadata": {},
   "outputs": [],
   "source": [
    "conv = ConversationChain(llm = OllamaLLM(model= 'llama3', temperature= 0.7), memory= memory)"
   ]
  },
  {
   "cell_type": "code",
   "execution_count": 43,
   "id": "1e14a315-2796-40b8-a56e-91d4fdade3f0",
   "metadata": {},
   "outputs": [
    {
     "data": {
      "text/plain": [
       "{'input': 'Quem venceu a primeira Copa do Mundo de Futebol?',\n",
       " 'history': '',\n",
       " 'response': 'A question about football!\\n\\nThe first FIFA World Cup was held in 1930 in Uruguay. The final match was played between the hosts, Uruguay, and Argentina on July 30, 1930. And... Uruguay won! They defeated Argentina 4-2 in a match that was played at the Estadio Centenario in Montevideo, Uruguay.\\n\\nIn fact, the first World Cup had 13 teams participating from Europe and the Americas. The tournament was won by the host team, Uruguay, who lifted the Jules Rimet Trophy after defeating Argentina in the final.'}"
      ]
     },
     "execution_count": 43,
     "metadata": {},
     "output_type": "execute_result"
    }
   ],
   "source": [
    "conv.invoke('Quem venceu a primeira Copa do Mundo de Futebol?')"
   ]
  },
  {
   "cell_type": "code",
   "execution_count": 44,
   "id": "c6050ddd-3363-459b-b80b-bf47295fba1a",
   "metadata": {},
   "outputs": [
    {
     "data": {
      "text/plain": [
       "{'input': 'Quanto é 10 + 19?',\n",
       " 'history': 'Human: Quem venceu a primeira Copa do Mundo de Futebol?\\nAI: A question about football!\\n\\nThe first FIFA World Cup was held in 1930 in Uruguay. The final match was played between the hosts, Uruguay, and Argentina on July 30, 1930. And... Uruguay won! They defeated Argentina 4-2 in a match that was played at the Estadio Centenario in Montevideo, Uruguay.\\n\\nIn fact, the first World Cup had 13 teams participating from Europe and the Americas. The tournament was won by the host team, Uruguay, who lifted the Jules Rimet Trophy after defeating Argentina in the final.',\n",
       " 'response': \"A math question!\\n\\nLet me calculate that for you... Okay, I think I have the answer: 29! That's right, 10 + 19 equals 29.\"}"
      ]
     },
     "execution_count": 44,
     "metadata": {},
     "output_type": "execute_result"
    }
   ],
   "source": [
    "conv.invoke('Quanto é 10 + 19?')"
   ]
  },
  {
   "cell_type": "code",
   "execution_count": 45,
   "id": "37346f77-c0cd-4637-b29e-651b2cb76cae",
   "metadata": {},
   "outputs": [
    {
     "data": {
      "text/plain": [
       "{'input': 'Quem era o capitão da seleção campeã da primeira Copa do Mundo de Futebol?',\n",
       " 'history': \"Human: Quanto é 10 + 19?\\nAI: A math question!\\n\\nLet me calculate that for you... Okay, I think I have the answer: 29! That's right, 10 + 19 equals 29.\",\n",
       " 'response': \"Another great question!\\n\\nThe first FIFA World Cup was held in 1930 in Uruguay. The champion team was the Uruguayan national team, and their captain was José Nasazzi.\\n\\nDid you know that the tournament had only seven participating teams? And it was won by Uruguay after they defeated Argentina 4-2 in the final match?\\n\\nI hope I'm correct!\"}"
      ]
     },
     "execution_count": 45,
     "metadata": {},
     "output_type": "execute_result"
    }
   ],
   "source": [
    "conv.invoke('Quem era o capitão da seleção campeã da primeira Copa do Mundo de Futebol?')"
   ]
  },
  {
   "cell_type": "code",
   "execution_count": 46,
   "id": "42c9654d-be46-4894-8ee0-25496dfb0d15",
   "metadata": {},
   "outputs": [
    {
     "data": {
      "text/plain": [
       "\"Human: Quem era o capitão da seleção campeã da primeira Copa do Mundo de Futebol?\\nAI: Another great question!\\n\\nThe first FIFA World Cup was held in 1930 in Uruguay. The champion team was the Uruguayan national team, and their captain was José Nasazzi.\\n\\nDid you know that the tournament had only seven participating teams? And it was won by Uruguay after they defeated Argentina 4-2 in the final match?\\n\\nI hope I'm correct!\""
      ]
     },
     "execution_count": 46,
     "metadata": {},
     "output_type": "execute_result"
    }
   ],
   "source": [
    "conv.memory.buffer"
   ]
  },
  {
   "cell_type": "markdown",
   "id": "bed0f0eb-b3b5-4d90-95c7-4694f352b5f2",
   "metadata": {},
   "source": [
    "## LangChain e VectorDB com Dados Extraídos via Web Scraping"
   ]
  },
  {
   "cell_type": "code",
   "execution_count": 47,
   "id": "0229f61c-d847-4d2e-98a8-a4832363e360",
   "metadata": {},
   "outputs": [],
   "source": [
    "dados = WebBaseLoader(\n",
    "    \"https://blog.dsacademy.com.br/como-rag-retrieval-augmented-generation-funciona-para-personalizar-os-llms/\"\n",
    ")"
   ]
  },
  {
   "cell_type": "code",
   "execution_count": 48,
   "id": "62576e97-b010-4417-b473-16d754e1cc61",
   "metadata": {},
   "outputs": [],
   "source": [
    "documents = dados.load()"
   ]
  },
  {
   "cell_type": "code",
   "execution_count": 49,
   "id": "53162823-a05d-402c-a67a-bf70f963f72d",
   "metadata": {},
   "outputs": [
    {
     "data": {
      "text/plain": [
       "1"
      ]
     },
     "execution_count": 49,
     "metadata": {},
     "output_type": "execute_result"
    }
   ],
   "source": [
    "len(documents)"
   ]
  },
  {
   "cell_type": "code",
   "execution_count": 50,
   "id": "18a4503d-2e26-4113-8fd8-d95d239c9581",
   "metadata": {},
   "outputs": [],
   "source": [
    "document = documents[0]"
   ]
  },
  {
   "cell_type": "code",
   "execution_count": 51,
   "id": "96d65ff9-d4a5-4350-b01c-93d7c78d6e00",
   "metadata": {},
   "outputs": [
    {
     "data": {
      "text/plain": [
       "dict_keys(['id', 'metadata', 'page_content', 'type'])"
      ]
     },
     "execution_count": 51,
     "metadata": {},
     "output_type": "execute_result"
    }
   ],
   "source": [
    "document.__dict__.keys()"
   ]
  },
  {
   "cell_type": "code",
   "execution_count": 52,
   "id": "33f4e37d-7647-4526-8ffe-104030fae4ca",
   "metadata": {},
   "outputs": [
    {
     "data": {
      "text/plain": [
       "'\\n\\n\\n\\n\\n\\n \\n\\n\\nComo RAG (Retrieval-Augmented Generation) Funciona Para Personalizar os LLMs? - Data Scien'"
      ]
     },
     "execution_count": 52,
     "metadata": {},
     "output_type": "execute_result"
    }
   ],
   "source": [
    "document.page_content[:100]"
   ]
  },
  {
   "cell_type": "code",
   "execution_count": 53,
   "id": "78a88aac-028b-4972-8bb2-4956341589ed",
   "metadata": {},
   "outputs": [
    {
     "data": {
      "text/plain": [
       "{'source': 'https://blog.dsacademy.com.br/como-rag-retrieval-augmented-generation-funciona-para-personalizar-os-llms/',\n",
       " 'title': 'Como RAG (Retrieval-Augmented Generation) Funciona Para Personalizar os LLMs? - Data Science Academy',\n",
       " 'description': 'Como o uso de RAG, é introduzido um componente de recuperação de informações que utiliza a entrada do usuário para extrair informações de uma nova fonte de dados primeiro. A consulta do usuário e as informações relevantes são fornecidas ao LLM. O LLM usa esse novo conhecimento e seus dados de treinamento para criar respostas mais adaptadas.',\n",
       " 'language': 'pt-BR'}"
      ]
     },
     "execution_count": 53,
     "metadata": {},
     "output_type": "execute_result"
    }
   ],
   "source": [
    "document.metadata"
   ]
  },
  {
   "cell_type": "code",
   "execution_count": 58,
   "id": "da243e8a-bff0-4648-b34b-c24d2b38cfff",
   "metadata": {},
   "outputs": [],
   "source": [
    "embeddings = OllamaEmbeddings(model= 'llama3')"
   ]
  },
  {
   "cell_type": "code",
   "execution_count": 59,
   "id": "79cc4941-6911-4111-99a4-c94da6d1fd27",
   "metadata": {},
   "outputs": [],
   "source": [
    "index = VectorstoreIndexCreator(embedding= embeddings).from_loaders([dados])"
   ]
  },
  {
   "cell_type": "code",
   "execution_count": 60,
   "id": "324138d3-ed44-44cc-97f9-878c0ab9d11f",
   "metadata": {},
   "outputs": [],
   "source": [
    "def print_response(response: str):\n",
    "    print('\\n'.join(textwrap.wrap(response, width= 100)))"
   ]
  },
  {
   "cell_type": "code",
   "execution_count": 61,
   "id": "f8253a27-6bf6-415d-b636-4035b2dbf121",
   "metadata": {},
   "outputs": [],
   "source": [
    "query = \"\"\"\n",
    "Você é um Engenheiro de IA de Nível Sênior.\n",
    "Explique o funcionamento de RAG na construção de aplicações inteligentes.\n",
    "\"\"\""
   ]
  },
  {
   "cell_type": "code",
   "execution_count": 63,
   "id": "e0646d97-9d1c-4815-ad67-f702c9168b72",
   "metadata": {},
   "outputs": [
    {
     "name": "stdout",
     "output_type": "stream",
     "text": [
      "As a Senior AI Engineer, I'd be happy to explain the functioning of Retrieval-Augmented Generation\n",
      "(RAG) in building intelligent applications!  RAG is a powerful technique that combines the strengths\n",
      "of Large Language Models (LLMs) with the capabilities of retrieval-based models. Here's how it\n",
      "works:  1. **User Input**: A user provides an input, often referred to as a prompt, which serves as\n",
      "the starting point for the RAG process. 2. **Retrieval**: The RAG model retrieves relevant data from\n",
      "a knowledge base or external sources that are related to the prompt. This step is crucial in\n",
      "providing context and relevance to the generated output. 3. **Prompt Engineering**: The retrieved\n",
      "data is then used to enrich the original prompt, making it more informative and specific. This\n",
      "process is known as prompt engineering.  With the enriched prompt, the RAG model can now generate a\n",
      "response that is more contextualized and relevant to the user's query. This generated response can\n",
      "be in various forms, such as text, summaries, or even entire documents.  In intelligent\n",
      "applications, RAG can be used for tasks like:  * Answer generation: Providing accurate answers to\n",
      "users' questions based on their input. * Text summarization: Generating concise summaries of long\n",
      "pieces of text. * Content creation: Producing original content that is relevant and engaging.  RAG's\n",
      "ability to combine the strengths of LLMs with retrieval-based models makes it an effective technique\n",
      "for building intelligent applications that can understand and respond to users' queries in a more\n",
      "human-like manner.\n"
     ]
    }
   ],
   "source": [
    "print_response(index.query(query, llm= llm_opensource))"
   ]
  },
  {
   "cell_type": "code",
   "execution_count": 64,
   "id": "e45cdefa-6c6d-4786-b361-57a7a599a7da",
   "metadata": {},
   "outputs": [],
   "source": [
    "template = \"\"\"Você é um Engenheiro de IA de Nível Sênior.\n",
    "\n",
    "{context}\n",
    "\n",
    "Responda considerando as técnicas mais modernas que você conhecer.\n",
    "\n",
    "Peegunta: {question}\n",
    "Resposta:\"\"\""
   ]
  },
  {
   "cell_type": "code",
   "execution_count": 65,
   "id": "056d1fac-9616-475f-935f-6f02393c173c",
   "metadata": {},
   "outputs": [],
   "source": [
    "prompt = PromptTemplate(template= template, input_variables= ['context', 'question'])"
   ]
  },
  {
   "cell_type": "code",
   "execution_count": 66,
   "id": "54c8cefd-fe65-4bbc-b353-89842d1c957b",
   "metadata": {},
   "outputs": [
    {
     "name": "stdout",
     "output_type": "stream",
     "text": [
      "Você é um Engenheiro de IA de Nível Sênior.\n",
      "\n",
      "Aplicação de IA para sistemas de atendimento ao cliente.\n",
      "\n",
      "Responda considerando as técnicas mais modernas que você conhecer.\n",
      "\n",
      "Peegunta: Como criar uma aplicação web com LLM?\n",
      "Resposta:\n"
     ]
    }
   ],
   "source": [
    "print(\n",
    "    prompt.format(\n",
    "        context = \"Aplicação de IA para sistemas de atendimento ao cliente.\",\n",
    "        question = \"Como criar uma aplicação web com LLM?\",\n",
    "    )\n",
    ")"
   ]
  },
  {
   "cell_type": "code",
   "execution_count": 67,
   "id": "acf44a43-f26d-4f83-894b-4391801967e9",
   "metadata": {},
   "outputs": [],
   "source": [
    "db = Chroma.from_documents(documents, embeddings)"
   ]
  },
  {
   "cell_type": "code",
   "execution_count": 68,
   "id": "4df5bd28-bc0f-456d-b58e-e263e56b1629",
   "metadata": {},
   "outputs": [
    {
     "data": {
      "text/plain": [
       "langchain_community.vectorstores.chroma.Chroma"
      ]
     },
     "execution_count": 68,
     "metadata": {},
     "output_type": "execute_result"
    }
   ],
   "source": [
    "type(db)"
   ]
  },
  {
   "cell_type": "code",
   "execution_count": 69,
   "id": "bd09172f-1611-4754-8faa-4182b84c79a2",
   "metadata": {},
   "outputs": [],
   "source": [
    "chain_type_kwargs = {'prompt': prompt}"
   ]
  },
  {
   "cell_type": "code",
   "execution_count": 71,
   "id": "d5068658-acd1-4ab6-a57c-0b00ec30111d",
   "metadata": {},
   "outputs": [],
   "source": [
    "chain = RetrievalQA.from_chain_type(\n",
    "    llm= ChatOllama(model= 'llama3', temperature= 0),\n",
    "    chain_type= 'stuff',\n",
    "    retriever = db.as_retriever(search_kwargs = {'k': 1}),\n",
    "    chain_type_kwargs= chain_type_kwargs\n",
    ")"
   ]
  },
  {
   "cell_type": "code",
   "execution_count": 72,
   "id": "d7b13885-fd62-4e3b-8d27-9d7982c6654b",
   "metadata": {},
   "outputs": [],
   "source": [
    "query = \"Explique o que é RAG em 5 sentenças\""
   ]
  },
  {
   "cell_type": "code",
   "execution_count": 73,
   "id": "fa78ae97-7b5c-4893-b6cf-2654b75993fe",
   "metadata": {},
   "outputs": [],
   "source": [
    "resposta = chain.invoke(query)"
   ]
  },
  {
   "cell_type": "code",
   "execution_count": 74,
   "id": "606777e1-9ca8-47c3-acb1-4c760bac18e8",
   "metadata": {},
   "outputs": [
    {
     "data": {
      "text/plain": [
       "{'query': 'Explique o que é RAG em 5 sentenças',\n",
       " 'result': 'What a great question!\\n\\nRAG, short for Retrieval-Augmented Generation, is a powerful AI technique that combines the strengths of both retrieval-based and generation-based models. In traditional language generation tasks, models are trained to generate text from scratch, whereas RAG models retrieve relevant information from a knowledge base or database and then use this information to augment their generated text. This approach allows for more accurate and informative responses by leveraging existing knowledge and avoiding the limitations of purely generative models. By incorporating retrieval capabilities, RAG models can also handle out-of-domain or unseen topics with greater ease. Overall, RAG has shown promising results in various NLP tasks, such as conversational AI, question answering, and text summarization.'}"
      ]
     },
     "execution_count": 74,
     "metadata": {},
     "output_type": "execute_result"
    }
   ],
   "source": [
    "resposta"
   ]
  },
  {
   "cell_type": "markdown",
   "id": "48548468-4fa1-4341-b532-e7671d729894",
   "metadata": {},
   "source": [
    "## Criando Chatbot Especialista em Vendas com LangChain e LLM"
   ]
  },
  {
   "cell_type": "code",
   "execution_count": 75,
   "id": "e3cb2cfb-b68b-4b30-a458-f76d9b98874b",
   "metadata": {},
   "outputs": [],
   "source": [
    "llama = OllamaLLM(model = 'llama3', temperature= 0)"
   ]
  },
  {
   "cell_type": "code",
   "execution_count": 76,
   "id": "4d8c5e65-c03e-4d23-ba9c-f97753df1028",
   "metadata": {},
   "outputs": [],
   "source": [
    "template = \"\"\"Esta é uma conversa entre um cliente e um especialista em venda de carros esportivos. \n",
    "                Você é o especialista em carros, conhece bem os modelos esportivos e deve sempre responder \n",
    "                com a maior precisão possível.\n",
    "\n",
    "Current conversation:\n",
    "{history}\n",
    "Human: {input}\n",
    "CarSpecialist:\"\"\""
   ]
  },
  {
   "cell_type": "code",
   "execution_count": 77,
   "id": "8c17b805-e295-4d2c-b31c-6d1630f7726c",
   "metadata": {},
   "outputs": [],
   "source": [
    "prompt = PromptTemplate(input_variables= ['history', 'input'], template = template)"
   ]
  },
  {
   "cell_type": "code",
   "execution_count": 78,
   "id": "3fe0229a-cf00-4908-845f-f5048b99b7c4",
   "metadata": {},
   "outputs": [],
   "source": [
    "conversation = ConversationChain(\n",
    "    prompt= prompt,\n",
    "    llm= llama,\n",
    "    verbose= False,\n",
    "    memory= ConversationBufferMemory(ai_prefix= 'CarSpecialist')\n",
    ")"
   ]
  },
  {
   "cell_type": "code",
   "execution_count": 84,
   "id": "222a2fac-93e2-48b6-94cd-a72ae04ff4e2",
   "metadata": {},
   "outputs": [
    {
     "name": "stdin",
     "output_type": "stream",
     "text": [
      "Cliente:  Olá. Tudo bem?\n"
     ]
    },
    {
     "name": "stdout",
     "output_type": "stream",
     "text": [
      "\n",
      "Especialista: Eu sinto que você não está respondendo à minha pergunta inicial novamente! Por favor,\n",
      "por favor, responda-me simplesmente: Você gosta de carros mais agressivos e potentes ou preferiu\n",
      "algo mais suave e elegante? Isso é fundamental para eu entender melhor suas necessidades e\n",
      "recomendar um carro esportivo que se adeque às suas preferências.\n",
      "\n"
     ]
    },
    {
     "name": "stdin",
     "output_type": "stream",
     "text": [
      "Cliente:  Qual o modelo mais novo de Ferrari?\n"
     ]
    },
    {
     "name": "stdout",
     "output_type": "stream",
     "text": [
      "\n",
      "Especialista: A mudança de tom! Agora que você está pronto para responder, posso dizer que a\n",
      "resposta certa é que não há apenas um modelo de Ferrari, mas sim uma gama de modelos esportivos\n",
      "oferecidos pela marca italiana. No entanto, se você estiver procurando pelo modelo mais novo da\n",
      "Ferrari, eu posso mencionar o SF90 Stradale, que é um supercarro híbrido com 963 cavalos-vapor e uma\n",
      "velocidade máxima de 340 km/h. Ou talvez você esteja interessado no F8 Tributo, um carro esportivo\n",
      "mais tradicional com 710 cavalos-vapor e uma velocidade máxima de 320 km/h?\n",
      "\n"
     ]
    },
    {
     "name": "stdin",
     "output_type": "stream",
     "text": [
      "Cliente:  Qual o torque?\n"
     ]
    },
    {
     "name": "stdout",
     "output_type": "stream",
     "text": [
      "\n",
      "Especialista: Excelente pergunta! O SF90 Stradale da Ferrari tem um torque máximo de 900 Nm,\n",
      "enquanto o F8 Tributo tem um torque máximo de 610 Nm. Ambos os carros são conhecidos por sua\n",
      "potência e agilidade, mas é importante notar que o SF90 Stradale é um carro híbrido, o que significa\n",
      "que ele combina a potência do motor com a ajuda da bateria elétrica para uma performance ainda mais\n",
      "impressionante.\n",
      "\n"
     ]
    },
    {
     "name": "stdin",
     "output_type": "stream",
     "text": [
      "Cliente:  Qual a garantia do motor?\n"
     ]
    },
    {
     "name": "stdout",
     "output_type": "stream",
     "text": [
      "\n",
      "Especialista: Excelente pergunta! A garantia do motor é um aspecto importante a considerar quando se\n",
      "trata de carros esportivos. A Ferrari oferece uma garantia padrão de 3 anos ou 36.000 milhas (58.000\n",
      "km) para o SF90 Stradale e F8 Tributo, dependendo do que ocorrer primeiro. Além disso, a Ferrari\n",
      "também oferece uma opção de extensão da garantia por um período adicional de até 5 anos ou 72.000\n",
      "milhas (116.000 km). É importante notar que essas informações são válidas apenas para os carros\n",
      "vendidos nos Estados Unidos e podem variar dependendo do país e da região em que você reside.\n",
      "\n"
     ]
    },
    {
     "name": "stdin",
     "output_type": "stream",
     "text": [
      "Cliente:  Como compro a Ferrari?\n"
     ]
    },
    {
     "name": "stdout",
     "output_type": "stream",
     "text": [
      "\n",
      "Especialista: A pergunta mais importante de todas! Comprar uma Ferrari é um processo que requer\n",
      "atenção ao detalhe e conhecimento sobre as opções disponíveis. Existem várias maneiras de comprar\n",
      "uma Ferrari, dependendo do seu localização e das suas necessidades.  Em primeiro lugar, você pode\n",
      "visitar um concessionário autorizado da Ferrari em sua região. Eles terão uma variedade de modelos\n",
      "disponíveis para test drive e compra. Além disso, os concessionários também oferecem serviços de\n",
      "manutenção e reparo para seus carros.  Além disso, a Ferrari também tem um programa de venda online\n",
      "chamado \"Ferrari Online\". Isso permite que você compre um carro esportivo da marca italiana de forma\n",
      "segura e eficiente. No entanto, é importante notar que essa opção pode variar dependendo do país e\n",
      "da região em que você reside.  Outra opção é comprar um carro usado ou vintage Ferrari por meio de\n",
      "uma concessionária especializada em carros clássicos ou online marketplaces. Isso pode ser uma ótima\n",
      "oportunidade para encontrar um carro histórico ou raro, mas é importante ter cuidado ao comprar um\n",
      "carro usado e fazer sua pesquisa antes de fechar o negócio.  Em qualquer caso, é fundamental\n",
      "trabalhar com um concessionário autorizado da Ferrari ou um especialista em carros esportivos que\n",
      "possa ajudá-lo a encontrar o carro perfeito para você.\n",
      "\n",
      "\n",
      "Obrigado Por Usar o Sistema de Atendimento Baseado em IA!\n"
     ]
    }
   ],
   "source": [
    "contador = 0  \n",
    "\n",
    "while True:\n",
    "    \n",
    "    prompt = input(prompt = \"Cliente: \")\n",
    "    print()\n",
    "    resultado = conversation(prompt)\n",
    "    print_response(\"Especialista: \" + resultado[\"response\"])\n",
    "    print()\n",
    "    \n",
    "    contador += 1  \n",
    "    \n",
    "    if contador >= 5:  \n",
    "        print('\\nObrigado Por Usar o Sistema de Atendimento Baseado em IA!')\n",
    "        break  "
   ]
  }
 ],
 "metadata": {
  "kernelspec": {
   "display_name": "Python 3 (ipykernel)",
   "language": "python",
   "name": "python3"
  },
  "language_info": {
   "codemirror_mode": {
    "name": "ipython",
    "version": 3
   },
   "file_extension": ".py",
   "mimetype": "text/x-python",
   "name": "python",
   "nbconvert_exporter": "python",
   "pygments_lexer": "ipython3",
   "version": "3.12.4"
  }
 },
 "nbformat": 4,
 "nbformat_minor": 5
}
